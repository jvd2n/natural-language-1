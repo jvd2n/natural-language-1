{
 "cells": [
  {
   "cell_type": "code",
   "execution_count": 1,
   "id": "3699909e",
   "metadata": {},
   "outputs": [],
   "source": [
    "from konlpy.tag import Kkma\n",
    "from icecream import ic"
   ]
  },
  {
   "cell_type": "code",
   "execution_count": 4,
   "id": "980a02a5",
   "metadata": {},
   "outputs": [
    {
     "name": "stderr",
     "output_type": "stream",
     "text": [
      "ic| kkma.pos('한국어 분석을 시작합니다 재미있어요~~'): [('한국어', 'NNG'),\n",
      "                                        ('분석', 'NNG'),\n",
      "                                        ('을', 'JKO'),\n",
      "                                        ('시작하', 'VV'),\n",
      "                                        ('ㅂ니다', 'EFN'),\n",
      "                                        ('재미있', 'VA'),\n",
      "                                        ('어요', 'EFN'),\n",
      "                                        ('~~', 'SW')]\n"
     ]
    },
    {
     "data": {
      "text/plain": "[('한국어', 'NNG'),\n ('분석', 'NNG'),\n ('을', 'JKO'),\n ('시작하', 'VV'),\n ('ㅂ니다', 'EFN'),\n ('재미있', 'VA'),\n ('어요', 'EFN'),\n ('~~', 'SW')]"
     },
     "execution_count": 2,
     "metadata": {},
     "output_type": "execute_result"
    },
    {
     "name": "stderr",
     "output_type": "stream",
     "text": [
      "ic| kkma.pos('한국어 분석을 시작합니다 재미있어요~~'): [('한국어', 'NNG'),\n",
      "                                        ('분석', 'NNG'),\n",
      "                                        ('을', 'JKO'),\n",
      "                                        ('시작하', 'VV'),\n",
      "                                        ('ㅂ니다', 'EFN'),\n",
      "                                        ('재미있', 'VA'),\n",
      "                                        ('어요', 'EFN'),\n",
      "                                        ('~~', 'SW')]\n"
     ]
    },
    {
     "data": {
      "text/plain": "[('한국어', 'NNG'),\n ('분석', 'NNG'),\n ('을', 'JKO'),\n ('시작하', 'VV'),\n ('ㅂ니다', 'EFN'),\n ('재미있', 'VA'),\n ('어요', 'EFN'),\n ('~~', 'SW')]"
     },
     "execution_count": 3,
     "metadata": {},
     "output_type": "execute_result"
    },
    {
     "name": "stderr",
     "output_type": "stream",
     "text": [
      "ic| kkma.pos('한국어 분석을 시작합니다 재미있어요~~'): [('한국어', 'NNG'),\n",
      "                                        ('분석', 'NNG'),\n",
      "                                        ('을', 'JKO'),\n",
      "                                        ('시작하', 'VV'),\n",
      "                                        ('ㅂ니다', 'EFN'),\n",
      "                                        ('재미있', 'VA'),\n",
      "                                        ('어요', 'EFN'),\n",
      "                                        ('~~', 'SW')]\n"
     ]
    },
    {
     "data": {
      "text/plain": "[('한국어', 'NNG'),\n ('분석', 'NNG'),\n ('을', 'JKO'),\n ('시작하', 'VV'),\n ('ㅂ니다', 'EFN'),\n ('재미있', 'VA'),\n ('어요', 'EFN'),\n ('~~', 'SW')]"
     },
     "execution_count": 4,
     "metadata": {},
     "output_type": "execute_result"
    }
   ],
   "source": [
    "kkma = Kkma()\n",
    "ic(kkma.pos('한국어 분석을 시작합니다 재미있어요~~'))"
   ]
  },
  {
   "cell_type": "code",
   "execution_count": null,
   "id": "157f0b48",
   "metadata": {},
   "outputs": [],
   "source": []
  }
 ],
 "metadata": {
  "kernelspec": {
   "display_name": "Python 3",
   "language": "python",
   "name": "python3"
  },
  "language_info": {
   "codemirror_mode": {
    "name": "ipython",
    "version": 3
   },
   "file_extension": ".py",
   "mimetype": "text/x-python",
   "name": "python",
   "nbconvert_exporter": "python",
   "pygments_lexer": "ipython3",
   "version": "3.8.8"
  }
 },
 "nbformat": 4,
 "nbformat_minor": 5
}